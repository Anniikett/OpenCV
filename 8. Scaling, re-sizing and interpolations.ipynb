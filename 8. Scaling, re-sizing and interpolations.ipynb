{
 "cells": [
  {
   "cell_type": "markdown",
   "metadata": {},
   "source": [
    "## Scaling, re-sizing and interpolations\n",
    "\n",
    "Re-sizing is very easy using the cv2.resize function, it's arguments are:\n",
    "\n",
    "cv2.resize(image, dsize(output image size), x scale, y scale, interpolation)\n"
   ]
  },
  {
   "cell_type": "code",
   "execution_count": 1,
   "metadata": {
    "ExecuteTime": {
     "end_time": "2022-05-14T12:19:13.987235Z",
     "start_time": "2022-05-14T12:19:13.958081Z"
    }
   },
   "outputs": [
    {
     "data": {
      "text/plain": [
       "4800000000000"
      ]
     },
     "execution_count": 1,
     "metadata": {},
     "output_type": "execute_result"
    }
   ],
   "source": [
    "4000 * 4000 * 3 * 100000"
   ]
  },
  {
   "cell_type": "code",
   "execution_count": 2,
   "metadata": {
    "ExecuteTime": {
     "end_time": "2022-05-14T12:19:14.789329Z",
     "start_time": "2022-05-14T12:19:14.783986Z"
    }
   },
   "outputs": [
    {
     "data": {
      "text/plain": [
       "307200000"
      ]
     },
     "execution_count": 2,
     "metadata": {},
     "output_type": "execute_result"
    }
   ],
   "source": [
    "32 * 32 * 3 * 100000"
   ]
  },
  {
   "cell_type": "code",
   "execution_count": 3,
   "metadata": {
    "ExecuteTime": {
     "end_time": "2022-05-14T12:19:15.944399Z",
     "start_time": "2022-05-14T12:19:15.682965Z"
    }
   },
   "outputs": [],
   "source": [
    "import cv2\n",
    "import numpy as np\n",
    "\n",
    "# load our input image\n",
    "image = cv2.imread('DATA/input.jpg')"
   ]
  },
  {
   "cell_type": "code",
   "execution_count": 4,
   "metadata": {
    "ExecuteTime": {
     "end_time": "2022-05-14T12:19:18.723777Z",
     "start_time": "2022-05-14T12:19:18.716335Z"
    }
   },
   "outputs": [
    {
     "data": {
      "text/plain": [
       "(550, 550, 3)"
      ]
     },
     "execution_count": 4,
     "metadata": {},
     "output_type": "execute_result"
    }
   ],
   "source": [
    "image.shape"
   ]
  },
  {
   "cell_type": "code",
   "execution_count": 5,
   "metadata": {
    "ExecuteTime": {
     "end_time": "2022-05-14T12:28:27.450658Z",
     "start_time": "2022-05-14T12:28:27.441629Z"
    }
   },
   "outputs": [],
   "source": [
    "# Let's make our image 3/4 of it's original size\n",
    "image_scaled = cv2.resize(image, None, fx=0.50, fy=0.50)"
   ]
  },
  {
   "cell_type": "code",
   "execution_count": 6,
   "metadata": {
    "ExecuteTime": {
     "end_time": "2022-05-14T12:28:28.566830Z",
     "start_time": "2022-05-14T12:28:28.561405Z"
    }
   },
   "outputs": [
    {
     "data": {
      "text/plain": [
       "(275, 275, 3)"
      ]
     },
     "execution_count": 6,
     "metadata": {},
     "output_type": "execute_result"
    }
   ],
   "source": [
    "image_scaled.shape"
   ]
  },
  {
   "cell_type": "code",
   "execution_count": 7,
   "metadata": {
    "ExecuteTime": {
     "end_time": "2022-05-14T12:28:41.595565Z",
     "start_time": "2022-05-14T12:28:32.726766Z"
    }
   },
   "outputs": [],
   "source": [
    "cv2.imshow('Scaling - Linear Interpolation', image_scaled) \n",
    "cv2.waitKey()\n",
    "cv2.destroyAllWindows()"
   ]
  },
  {
   "cell_type": "markdown",
   "metadata": {},
   "source": [
    "- interpolation method is the algorithm working bhehind the scens to handle how the actual image is resized"
   ]
  },
  {
   "cell_type": "code",
   "execution_count": 8,
   "metadata": {
    "ExecuteTime": {
     "end_time": "2022-05-14T12:28:52.403313Z",
     "start_time": "2022-05-14T12:28:52.378969Z"
    }
   },
   "outputs": [],
   "source": [
    "# Let's double the size of our image\n",
    "img_scaled = cv2.resize(image, None, fx=2, fy=2, interpolation = cv2.INTER_CUBIC)"
   ]
  },
  {
   "cell_type": "code",
   "execution_count": 9,
   "metadata": {
    "ExecuteTime": {
     "end_time": "2022-05-14T12:28:54.281310Z",
     "start_time": "2022-05-14T12:28:54.274571Z"
    }
   },
   "outputs": [
    {
     "data": {
      "text/plain": [
       "(1100, 1100, 3)"
      ]
     },
     "execution_count": 9,
     "metadata": {},
     "output_type": "execute_result"
    }
   ],
   "source": [
    "img_scaled.shape"
   ]
  },
  {
   "cell_type": "code",
   "execution_count": 10,
   "metadata": {
    "ExecuteTime": {
     "end_time": "2022-05-14T12:29:00.330879Z",
     "start_time": "2022-05-14T12:28:56.946703Z"
    }
   },
   "outputs": [],
   "source": [
    "cv2.imshow('Scaling - Cubic Interpolation', img_scaled)\n",
    "cv2.waitKey()\n",
    "cv2.destroyAllWindows()"
   ]
  },
  {
   "cell_type": "code",
   "execution_count": 11,
   "metadata": {
    "ExecuteTime": {
     "end_time": "2022-05-14T12:29:08.331898Z",
     "start_time": "2022-05-14T12:29:04.489554Z"
    }
   },
   "outputs": [],
   "source": [
    "# Let's skew the re-sizing by setting exact dimensions\n",
    "img_scaled = cv2.resize(image, (95, 400), interpolation = cv2.INTER_AREA)\n",
    "cv2.imshow('Scaling - Skewed Size', img_scaled) \n",
    "cv2.waitKey()\n",
    "cv2.destroyAllWindows()"
   ]
  },
  {
   "cell_type": "markdown",
   "metadata": {
    "collapsed": true
   },
   "source": [
    "- Resizing is the changing of size of image. we need to take care of aspect ratio too.\n",
    "- The aspect ration is the proportional relationship of the width and the height of the image"
   ]
  },
  {
   "cell_type": "markdown",
   "metadata": {
    "collapsed": true
   },
   "source": [
    "we define our ratio r to be the new width(150 pixels) divided by the old width.\n",
    "compute the new dimensions of the image, width of the nnew image will be 150 pixels. the height is computed by multiplying the old height by our ratio and converting it to and integer\n",
    "\n"
   ]
  },
  {
   "cell_type": "code",
   "execution_count": 12,
   "metadata": {
    "ExecuteTime": {
     "end_time": "2022-05-14T12:29:11.605106Z",
     "start_time": "2022-05-14T12:29:11.599829Z"
    }
   },
   "outputs": [
    {
     "data": {
      "text/plain": [
       "(550, 550, 3)"
      ]
     },
     "execution_count": 12,
     "metadata": {},
     "output_type": "execute_result"
    }
   ],
   "source": [
    "image.shape"
   ]
  },
  {
   "cell_type": "code",
   "execution_count": 13,
   "metadata": {
    "ExecuteTime": {
     "end_time": "2022-05-14T12:29:13.013354Z",
     "start_time": "2022-05-14T12:29:13.009446Z"
    }
   },
   "outputs": [],
   "source": [
    "r = 150 / image.shape[1] # 150/1245 = 0.12\n",
    "dim = (150, int(image.shape[0] * r )) # 830 * 0.12 = 99.6"
   ]
  },
  {
   "cell_type": "code",
   "execution_count": 14,
   "metadata": {
    "ExecuteTime": {
     "end_time": "2022-05-14T12:29:14.721802Z",
     "start_time": "2022-05-14T12:29:14.716923Z"
    }
   },
   "outputs": [
    {
     "data": {
      "text/plain": [
       "(550, 550, 3)"
      ]
     },
     "execution_count": 14,
     "metadata": {},
     "output_type": "execute_result"
    }
   ],
   "source": [
    "image.shape # old dimention"
   ]
  },
  {
   "cell_type": "code",
   "execution_count": 15,
   "metadata": {
    "ExecuteTime": {
     "end_time": "2022-05-14T12:29:15.277892Z",
     "start_time": "2022-05-14T12:29:15.273049Z"
    }
   },
   "outputs": [
    {
     "data": {
      "text/plain": [
       "(150, 150)"
      ]
     },
     "execution_count": 15,
     "metadata": {},
     "output_type": "execute_result"
    }
   ],
   "source": [
    "dim # new scale dimention"
   ]
  },
  {
   "cell_type": "code",
   "execution_count": 16,
   "metadata": {
    "ExecuteTime": {
     "end_time": "2022-05-14T12:29:20.104068Z",
     "start_time": "2022-05-14T12:29:20.090529Z"
    }
   },
   "outputs": [],
   "source": [
    "image = cv2.imread('DATA/input.jpg')"
   ]
  },
  {
   "cell_type": "code",
   "execution_count": 17,
   "metadata": {
    "ExecuteTime": {
     "end_time": "2022-05-14T12:29:24.513145Z",
     "start_time": "2022-05-14T12:29:21.169755Z"
    }
   },
   "outputs": [],
   "source": [
    "res = cv2.resize(image, dim, interpolation = cv2.INTER_AREA)\n",
    "cv2.imshow('scaled', res) \n",
    "cv2.waitKey()\n",
    "cv2.destroyAllWindows()"
   ]
  },
  {
   "cell_type": "markdown",
   "metadata": {},
   "source": [
    "### Create Funtions"
   ]
  },
  {
   "cell_type": "code",
   "execution_count": 19,
   "metadata": {
    "ExecuteTime": {
     "end_time": "2022-05-14T12:29:49.389914Z",
     "start_time": "2022-05-14T12:29:49.379220Z"
    }
   },
   "outputs": [],
   "source": [
    "def resize(img, width = None, height = None , inter = cv2.INTER_AREA):\n",
    "    \n",
    "    dim = None\n",
    "    \n",
    "    (h,w) = img.shape[:2]\n",
    "    \n",
    "    if width is None and height is None:\n",
    "        return img\n",
    "    \n",
    "    # cal new dim based on height given\n",
    "    elif width is None:\n",
    "        r = height/float(h)\n",
    "        dim = (int(w*r), height)\n",
    "        \n",
    "    # calculate new dim based on width given\n",
    "    elif height is None:\n",
    "        r = width/float(w)\n",
    "        dim = (width, int(h*r))\n",
    "        \n",
    "    res = cv2.resize(img, dim , interpolation= inter)\n",
    "    \n",
    "    return res"
   ]
  },
  {
   "cell_type": "code",
   "execution_count": 20,
   "metadata": {
    "ExecuteTime": {
     "end_time": "2022-05-14T12:29:52.093381Z",
     "start_time": "2022-05-14T12:29:52.079773Z"
    }
   },
   "outputs": [],
   "source": [
    "image = cv2.imread('DATA/input.jpg')"
   ]
  },
  {
   "cell_type": "code",
   "execution_count": 21,
   "metadata": {
    "ExecuteTime": {
     "end_time": "2022-05-14T12:29:57.383941Z",
     "start_time": "2022-05-14T12:29:52.978159Z"
    }
   },
   "outputs": [
    {
     "name": "stdout",
     "output_type": "stream",
     "text": [
      "width given : h - 100, w - 100 \n"
     ]
    }
   ],
   "source": [
    "resized = resize(image, width = 100)\n",
    "cv2.imshow(\" width resized \", resized)\n",
    "cv2.waitKey(0)\n",
    "cv2.destroyAllWindows()\n",
    "\n",
    "print(\"width given : h - {}, w - {} \".format(resized.shape[0],resized.shape[1]))"
   ]
  },
  {
   "cell_type": "code",
   "execution_count": 22,
   "metadata": {
    "ExecuteTime": {
     "end_time": "2022-05-14T12:30:02.499304Z",
     "start_time": "2022-05-14T12:29:59.618363Z"
    }
   },
   "outputs": [
    {
     "name": "stdout",
     "output_type": "stream",
     "text": [
      "height given : h - 400, w - 400 \n"
     ]
    }
   ],
   "source": [
    "resized = resize(image, height = 400)\n",
    "cv2.imshow(\" height resized \", resized)\n",
    "cv2.waitKey(0)\n",
    "cv2.destroyAllWindows()\n",
    "\n",
    "print(\"height given : h - {}, w - {} \".format(resized.shape[0],resized.shape[1]))"
   ]
  },
  {
   "cell_type": "code",
   "execution_count": null,
   "metadata": {},
   "outputs": [],
   "source": []
  }
 ],
 "metadata": {
  "kernelspec": {
   "display_name": "Python 3 (ipykernel)",
   "language": "python",
   "name": "python3"
  },
  "language_info": {
   "codemirror_mode": {
    "name": "ipython",
    "version": 3
   },
   "file_extension": ".py",
   "mimetype": "text/x-python",
   "name": "python",
   "nbconvert_exporter": "python",
   "pygments_lexer": "ipython3",
   "version": "3.9.7"
  },
  "toc": {
   "base_numbering": 1,
   "nav_menu": {},
   "number_sections": true,
   "sideBar": true,
   "skip_h1_title": false,
   "title_cell": "Table of Contents",
   "title_sidebar": "Contents",
   "toc_cell": false,
   "toc_position": {},
   "toc_section_display": true,
   "toc_window_display": false
  }
 },
 "nbformat": 4,
 "nbformat_minor": 1
}
