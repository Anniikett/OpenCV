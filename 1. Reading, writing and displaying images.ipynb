{
 "cells": [
  {
   "cell_type": "markdown",
   "metadata": {},
   "source": [
    "### Reading the image file"
   ]
  },
  {
   "cell_type": "code",
   "execution_count": null,
   "metadata": {
    "ExecuteTime": {
     "end_time": "2022-05-10T14:43:13.462237Z",
     "start_time": "2022-05-10T14:43:13.457663Z"
    }
   },
   "outputs": [],
   "source": [
    "# pip install opencv-python\n",
    "# pip install opencv-contrib-python"
   ]
  },
  {
   "cell_type": "code",
   "execution_count": 1,
   "metadata": {
    "ExecuteTime": {
     "end_time": "2022-05-11T10:50:53.546706Z",
     "start_time": "2022-05-11T10:50:52.903360Z"
    }
   },
   "outputs": [],
   "source": [
    "import cv2"
   ]
  },
  {
   "cell_type": "code",
   "execution_count": 2,
   "metadata": {
    "ExecuteTime": {
     "end_time": "2022-05-11T10:50:58.233452Z",
     "start_time": "2022-05-11T10:50:58.226193Z"
    }
   },
   "outputs": [],
   "source": [
    "cv2.imread?"
   ]
  },
  {
   "cell_type": "code",
   "execution_count": 3,
   "metadata": {
    "ExecuteTime": {
     "end_time": "2022-05-11T10:51:48.447149Z",
     "start_time": "2022-05-11T10:51:48.430557Z"
    }
   },
   "outputs": [
    {
     "data": {
      "text/plain": [
       "'/Users/aniket/Desktop/Jupyter Notebook/NLP_OpenCV/OpenCV Codes'"
      ]
     },
     "execution_count": 3,
     "metadata": {},
     "output_type": "execute_result"
    }
   ],
   "source": [
    "pwd"
   ]
  },
  {
   "cell_type": "code",
   "execution_count": 4,
   "metadata": {
    "ExecuteTime": {
     "end_time": "2022-05-11T10:59:31.508298Z",
     "start_time": "2022-05-11T10:59:31.486420Z"
    }
   },
   "outputs": [],
   "source": [
    "# loading and converting the image into numpy array\n",
    "# printing the corresponding values\n",
    "image = cv2.imread(\"DATA/cat.jpeg\")"
   ]
  },
  {
   "cell_type": "code",
   "execution_count": 5,
   "metadata": {
    "ExecuteTime": {
     "end_time": "2022-05-11T10:59:33.653692Z",
     "start_time": "2022-05-11T10:59:33.642979Z"
    }
   },
   "outputs": [
    {
     "data": {
      "text/plain": [
       "array([[[16, 15, 11],\n",
       "        [23, 22, 18],\n",
       "        [31, 30, 26],\n",
       "        ...,\n",
       "        [ 7,  8,  6],\n",
       "        [ 7,  8,  6],\n",
       "        [ 7,  8,  6]],\n",
       "\n",
       "       [[15, 14, 10],\n",
       "        [22, 21, 17],\n",
       "        [30, 29, 25],\n",
       "        ...,\n",
       "        [ 6,  7,  5],\n",
       "        [ 6,  7,  5],\n",
       "        [ 6,  7,  5]],\n",
       "\n",
       "       [[14, 13,  9],\n",
       "        [21, 20, 16],\n",
       "        [30, 29, 25],\n",
       "        ...,\n",
       "        [ 6,  7,  5],\n",
       "        [ 6,  7,  5],\n",
       "        [ 6,  7,  5]],\n",
       "\n",
       "       ...,\n",
       "\n",
       "       [[ 8,  8,  8],\n",
       "        [ 7,  7,  7],\n",
       "        [ 5,  5,  5],\n",
       "        ...,\n",
       "        [ 0,  0,  0],\n",
       "        [ 0,  0,  0],\n",
       "        [ 0,  0,  0]],\n",
       "\n",
       "       [[ 9,  9,  9],\n",
       "        [ 8,  8,  8],\n",
       "        [ 6,  6,  6],\n",
       "        ...,\n",
       "        [ 0,  0,  0],\n",
       "        [ 0,  0,  0],\n",
       "        [ 0,  0,  0]],\n",
       "\n",
       "       [[10, 10, 10],\n",
       "        [ 9,  9,  9],\n",
       "        [ 7,  7,  7],\n",
       "        ...,\n",
       "        [ 0,  0,  0],\n",
       "        [ 0,  0,  0],\n",
       "        [ 0,  0,  0]]], dtype=uint8)"
      ]
     },
     "execution_count": 5,
     "metadata": {},
     "output_type": "execute_result"
    }
   ],
   "source": [
    "image"
   ]
  },
  {
   "cell_type": "code",
   "execution_count": 6,
   "metadata": {
    "ExecuteTime": {
     "end_time": "2022-05-11T11:10:40.609814Z",
     "start_time": "2022-05-11T11:10:40.604280Z"
    }
   },
   "outputs": [
    {
     "data": {
      "text/plain": [
       "(350, 528, 3)"
      ]
     },
     "execution_count": 6,
     "metadata": {},
     "output_type": "execute_result"
    }
   ],
   "source": [
    "image.shape"
   ]
  },
  {
   "cell_type": "code",
   "execution_count": 7,
   "metadata": {
    "ExecuteTime": {
     "end_time": "2022-05-11T11:20:02.877053Z",
     "start_time": "2022-05-11T11:20:02.867929Z"
    }
   },
   "outputs": [
    {
     "data": {
      "text/plain": [
       "554400"
      ]
     },
     "execution_count": 7,
     "metadata": {},
     "output_type": "execute_result"
    }
   ],
   "source": [
    "350 * 528 * 3"
   ]
  },
  {
   "cell_type": "code",
   "execution_count": 8,
   "metadata": {
    "ExecuteTime": {
     "end_time": "2022-05-11T11:32:21.869084Z",
     "start_time": "2022-05-11T11:32:21.861418Z"
    }
   },
   "outputs": [
    {
     "data": {
      "text/plain": [
       "4800000000000"
      ]
     },
     "execution_count": 8,
     "metadata": {},
     "output_type": "execute_result"
    }
   ],
   "source": [
    "4000 * 4000 * 3 * 100000 "
   ]
  },
  {
   "cell_type": "code",
   "execution_count": 9,
   "metadata": {
    "ExecuteTime": {
     "end_time": "2022-05-11T11:32:22.545632Z",
     "start_time": "2022-05-11T11:32:22.540827Z"
    }
   },
   "outputs": [
    {
     "data": {
      "text/plain": [
       "307200000"
      ]
     },
     "execution_count": 9,
     "metadata": {},
     "output_type": "execute_result"
    }
   ],
   "source": [
    "32 * 32 * 3 * 100000"
   ]
  },
  {
   "cell_type": "code",
   "execution_count": 10,
   "metadata": {
    "ExecuteTime": {
     "end_time": "2022-05-11T11:32:23.946579Z",
     "start_time": "2022-05-11T11:32:23.939681Z"
    }
   },
   "outputs": [
    {
     "name": "stdout",
     "output_type": "stream",
     "text": [
      "width : 528\n",
      "height : 350\n",
      "channels : 3\n"
     ]
    }
   ],
   "source": [
    "print(\"width : {}\".format(image.shape[1]))\n",
    "print(\"height : {}\".format(image.shape[0]))\n",
    "print(\"channels : {}\".format(image.shape[2]))"
   ]
  },
  {
   "cell_type": "code",
   "execution_count": 15,
   "metadata": {
    "ExecuteTime": {
     "end_time": "2022-05-11T11:39:06.902564Z",
     "start_time": "2022-05-11T11:38:52.235316Z"
    }
   },
   "outputs": [],
   "source": [
    "# load image into cv2 window\n",
    "# wait for key press\n",
    "# write image into another format\n",
    "cv2.imshow(\"output\", image)\n",
    "cv2.waitKey()\n",
    "cv2.destroyAllWindows()"
   ]
  },
  {
   "cell_type": "code",
   "execution_count": 16,
   "metadata": {
    "ExecuteTime": {
     "end_time": "2022-05-11T11:39:06.910136Z",
     "start_time": "2022-05-11T11:39:06.906366Z"
    }
   },
   "outputs": [],
   "source": [
    "cv2.destroyAllWindows()"
   ]
  },
  {
   "cell_type": "markdown",
   "metadata": {},
   "source": [
    "## writing the images to file"
   ]
  },
  {
   "cell_type": "code",
   "execution_count": 17,
   "metadata": {
    "ExecuteTime": {
     "end_time": "2022-05-11T11:39:29.553810Z",
     "start_time": "2022-05-11T11:39:29.547373Z"
    }
   },
   "outputs": [
    {
     "data": {
      "text/plain": [
       "'/Users/aniket/Desktop/Jupyter Notebook/NLP_OpenCV/OpenCV Codes'"
      ]
     },
     "execution_count": 17,
     "metadata": {},
     "output_type": "execute_result"
    }
   ],
   "source": [
    "pwd"
   ]
  },
  {
   "cell_type": "code",
   "execution_count": 18,
   "metadata": {
    "ExecuteTime": {
     "end_time": "2022-05-11T11:39:32.595636Z",
     "start_time": "2022-05-11T11:39:32.578306Z"
    }
   },
   "outputs": [
    {
     "data": {
      "text/plain": [
       "True"
      ]
     },
     "execution_count": 18,
     "metadata": {},
     "output_type": "execute_result"
    }
   ],
   "source": [
    "cv2.imwrite(\"new_catasdfasd.jpg\", image)"
   ]
  },
  {
   "cell_type": "code",
   "execution_count": 19,
   "metadata": {
    "ExecuteTime": {
     "end_time": "2022-05-11T11:39:34.805354Z",
     "start_time": "2022-05-11T11:39:34.641108Z"
    }
   },
   "outputs": [
    {
     "name": "stdout",
     "output_type": "stream",
     "text": [
      "zsh:1: command not found: dir\r\n"
     ]
    }
   ],
   "source": [
    "!dir"
   ]
  },
  {
   "cell_type": "markdown",
   "metadata": {},
   "source": [
    "### Get and Set "
   ]
  },
  {
   "cell_type": "code",
   "execution_count": 20,
   "metadata": {
    "ExecuteTime": {
     "end_time": "2022-05-11T11:39:39.636767Z",
     "start_time": "2022-05-11T11:39:39.622856Z"
    }
   },
   "outputs": [],
   "source": [
    "image = cv2.imread(\"DATA/cat.jpeg\")"
   ]
  },
  {
   "cell_type": "code",
   "execution_count": 21,
   "metadata": {
    "ExecuteTime": {
     "end_time": "2022-05-11T12:08:06.834007Z",
     "start_time": "2022-05-11T12:07:50.637943Z"
    }
   },
   "outputs": [],
   "source": [
    "cv2.imshow(\"my asdfas image\", image)\n",
    "cv2.waitKey()\n",
    "cv2.destroyAllWindows()"
   ]
  },
  {
   "cell_type": "code",
   "execution_count": 22,
   "metadata": {
    "ExecuteTime": {
     "end_time": "2022-05-11T12:08:06.840904Z",
     "start_time": "2022-05-11T12:08:06.837544Z"
    }
   },
   "outputs": [],
   "source": [
    "cv2.destroyAllWindows()"
   ]
  },
  {
   "cell_type": "code",
   "execution_count": null,
   "metadata": {},
   "outputs": [],
   "source": [
    "image[0,0]"
   ]
  },
  {
   "cell_type": "code",
   "execution_count": 29,
   "metadata": {
    "ExecuteTime": {
     "end_time": "2022-05-11T12:10:05.650092Z",
     "start_time": "2022-05-11T12:10:05.644292Z"
    }
   },
   "outputs": [
    {
     "data": {
      "text/plain": [
       "array([[[  0,   0, 255],\n",
       "        [  0,   0, 255],\n",
       "        [  0,   0, 255]],\n",
       "\n",
       "       [[  0,   0, 255],\n",
       "        [  0,   0, 255],\n",
       "        [  0,   0, 255]],\n",
       "\n",
       "       [[  0,   0, 255],\n",
       "        [  0,   0, 255],\n",
       "        [  0,   0, 255]]], dtype=uint8)"
      ]
     },
     "execution_count": 29,
     "metadata": {},
     "output_type": "execute_result"
    }
   ],
   "source": [
    "image[1:4,1:4]"
   ]
  },
  {
   "cell_type": "code",
   "execution_count": 30,
   "metadata": {
    "ExecuteTime": {
     "end_time": "2022-05-11T12:10:16.728034Z",
     "start_time": "2022-05-11T12:10:16.724711Z"
    }
   },
   "outputs": [],
   "source": [
    "# grab the 0,0 pixel of the image and print color values\n",
    "(b, g, r) = image[1:4,1:4]"
   ]
  },
  {
   "cell_type": "code",
   "execution_count": 31,
   "metadata": {
    "ExecuteTime": {
     "end_time": "2022-05-11T12:10:18.384518Z",
     "start_time": "2022-05-11T12:10:18.379013Z"
    }
   },
   "outputs": [
    {
     "name": "stdout",
     "output_type": "stream",
     "text": [
      "Pixel at (0,0) - Red:[[  0   0 255]\n",
      " [  0   0 255]\n",
      " [  0   0 255]] Green:[[  0   0 255]\n",
      " [  0   0 255]\n",
      " [  0   0 255]] Blue:[[  0   0 255]\n",
      " [  0   0 255]\n",
      " [  0   0 255]]\n"
     ]
    }
   ],
   "source": [
    "print(\"Pixel at (0,0) - Red:{} Green:{} Blue:{}\".format(r,g,b))"
   ]
  },
  {
   "cell_type": "code",
   "execution_count": 32,
   "metadata": {
    "ExecuteTime": {
     "end_time": "2022-05-11T12:10:38.171013Z",
     "start_time": "2022-05-11T12:10:38.164991Z"
    }
   },
   "outputs": [
    {
     "name": "stdout",
     "output_type": "stream",
     "text": [
      "Pixel at (0,0) - Red: [[  0   0 255]\n",
      " [  0   0 255]\n",
      " [  0   0 255]], Green: [[  0   0 255]\n",
      " [  0   0 255]\n",
      " [  0   0 255]], Blue: [[  0   0 255]\n",
      " [  0   0 255]\n",
      " [  0   0 255]]\n"
     ]
    }
   ],
   "source": [
    "# change the color of the pixel at 0,0 and print again\n",
    "image[0:100,0:100] = (0,0,255)\n",
    "(b,g,r) = image[1:4,1:4]\n",
    "print(\"Pixel at (0,0) - Red: {}, Green: {}, Blue: {}\".format(r,g,b))"
   ]
  },
  {
   "cell_type": "code",
   "execution_count": 33,
   "metadata": {
    "ExecuteTime": {
     "end_time": "2022-05-11T12:10:49.264711Z",
     "start_time": "2022-05-11T12:10:41.580293Z"
    }
   },
   "outputs": [],
   "source": [
    "cv2.imshow(\"output\", image)\n",
    "cv2.waitKey(0)\n",
    "cv2.destroyAllWindows()"
   ]
  },
  {
   "cell_type": "code",
   "execution_count": 34,
   "metadata": {
    "ExecuteTime": {
     "end_time": "2022-05-11T12:10:52.150066Z",
     "start_time": "2022-05-11T12:10:52.146981Z"
    }
   },
   "outputs": [],
   "source": [
    "cv2.destroyAllWindows()"
   ]
  },
  {
   "cell_type": "code",
   "execution_count": 35,
   "metadata": {
    "ExecuteTime": {
     "end_time": "2022-05-11T12:11:12.205352Z",
     "start_time": "2022-05-11T12:11:12.201479Z"
    }
   },
   "outputs": [],
   "source": [
    "# grab the region and show in cv2 window\n",
    "corner = image[0:100, 0:100] # [y:height , x:width  ]"
   ]
  },
  {
   "cell_type": "code",
   "execution_count": 36,
   "metadata": {
    "ExecuteTime": {
     "end_time": "2022-05-11T12:11:14.169105Z",
     "start_time": "2022-05-11T12:11:14.163774Z"
    }
   },
   "outputs": [
    {
     "data": {
      "text/plain": [
       "(100, 100, 3)"
      ]
     },
     "execution_count": 36,
     "metadata": {},
     "output_type": "execute_result"
    }
   ],
   "source": [
    "corner.shape"
   ]
  },
  {
   "cell_type": "code",
   "execution_count": 37,
   "metadata": {
    "ExecuteTime": {
     "end_time": "2022-05-11T12:11:33.145557Z",
     "start_time": "2022-05-11T12:11:25.169858Z"
    }
   },
   "outputs": [],
   "source": [
    "cv2.imshow(\"corner image\", corner)\n",
    "cv2.waitKey(0)\n",
    "cv2.destroyAllWindows()"
   ]
  },
  {
   "cell_type": "code",
   "execution_count": 38,
   "metadata": {
    "ExecuteTime": {
     "end_time": "2022-05-11T12:13:50.559340Z",
     "start_time": "2022-05-11T12:13:50.555792Z"
    }
   },
   "outputs": [],
   "source": [
    "# change color of the area of image\n",
    "image[0:100, 0:100] = (0,0,0)"
   ]
  },
  {
   "cell_type": "code",
   "execution_count": 39,
   "metadata": {
    "ExecuteTime": {
     "end_time": "2022-05-11T12:13:54.449022Z",
     "start_time": "2022-05-11T12:13:54.443682Z"
    }
   },
   "outputs": [
    {
     "data": {
      "text/plain": [
       "(350, 528, 3)"
      ]
     },
     "execution_count": 39,
     "metadata": {},
     "output_type": "execute_result"
    }
   ],
   "source": [
    "image.shape"
   ]
  },
  {
   "cell_type": "code",
   "execution_count": 40,
   "metadata": {
    "ExecuteTime": {
     "end_time": "2022-05-11T12:14:25.744736Z",
     "start_time": "2022-05-11T12:13:57.442542Z"
    }
   },
   "outputs": [],
   "source": [
    "cv2.imshow(\"Color area changed\", image)\n",
    "cv2.waitKey(0)\n",
    "cv2.destroyAllWindows()"
   ]
  },
  {
   "cell_type": "code",
   "execution_count": 41,
   "metadata": {
    "ExecuteTime": {
     "end_time": "2022-05-11T12:14:25.752951Z",
     "start_time": "2022-05-11T12:14:25.748118Z"
    }
   },
   "outputs": [],
   "source": [
    "# change the color of the pixel at 0,0 and print again\n",
    "image[:20, : ] = (18,255,180)\n"
   ]
  },
  {
   "cell_type": "code",
   "execution_count": 42,
   "metadata": {
    "ExecuteTime": {
     "end_time": "2022-05-11T12:14:40.511573Z",
     "start_time": "2022-05-11T12:14:28.869933Z"
    }
   },
   "outputs": [],
   "source": [
    "cv2.imshow(\"Color area changed\", image)\n",
    "cv2.waitKey(0)\n",
    "cv2.destroyAllWindows()"
   ]
  },
  {
   "cell_type": "code",
   "execution_count": 43,
   "metadata": {
    "ExecuteTime": {
     "end_time": "2022-05-11T12:14:44.205388Z",
     "start_time": "2022-05-11T12:14:44.198276Z"
    }
   },
   "outputs": [
    {
     "data": {
      "text/plain": [
       "2"
      ]
     },
     "execution_count": 43,
     "metadata": {},
     "output_type": "execute_result"
    }
   ],
   "source": [
    " 1+1 "
   ]
  },
  {
   "cell_type": "code",
   "execution_count": null,
   "metadata": {},
   "outputs": [],
   "source": []
  }
 ],
 "metadata": {
  "kernelspec": {
   "display_name": "Python 3 (ipykernel)",
   "language": "python",
   "name": "python3"
  },
  "language_info": {
   "codemirror_mode": {
    "name": "ipython",
    "version": 3
   },
   "file_extension": ".py",
   "mimetype": "text/x-python",
   "name": "python",
   "nbconvert_exporter": "python",
   "pygments_lexer": "ipython3",
   "version": "3.9.7"
  },
  "toc": {
   "base_numbering": 1,
   "nav_menu": {},
   "number_sections": true,
   "sideBar": true,
   "skip_h1_title": false,
   "title_cell": "Table of Contents",
   "title_sidebar": "Contents",
   "toc_cell": false,
   "toc_position": {},
   "toc_section_display": true,
   "toc_window_display": false
  }
 },
 "nbformat": 4,
 "nbformat_minor": 4
}
