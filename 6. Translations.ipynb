{
 "cells": [
  {
   "cell_type": "markdown",
   "metadata": {},
   "source": [
    "## Translations\n",
    "\n",
    "This an affine transform that simply shifts the position of an image.\n",
    "\n",
    "We use cv2.warpAffine to implement these transformations.\n"
   ]
  },
  {
   "cell_type": "markdown",
   "metadata": {},
   "source": [
    "- Translation is the shifting of an image along the x and y axis \n",
    "- using translation, we can shift an image up, down left, or right, along with any combination"
   ]
  },
  {
   "cell_type": "code",
   "execution_count": 1,
   "metadata": {
    "ExecuteTime": {
     "end_time": "2022-05-14T11:42:54.139070Z",
     "start_time": "2022-05-14T11:42:53.777561Z"
    }
   },
   "outputs": [],
   "source": [
    "import cv2\n",
    "import numpy as np"
   ]
  },
  {
   "cell_type": "code",
   "execution_count": 2,
   "metadata": {
    "ExecuteTime": {
     "end_time": "2022-05-14T11:42:54.902302Z",
     "start_time": "2022-05-14T11:42:54.867475Z"
    }
   },
   "outputs": [],
   "source": [
    "image = cv2.imread('DATA/DOGS.jpeg')"
   ]
  },
  {
   "cell_type": "code",
   "execution_count": 3,
   "metadata": {
    "ExecuteTime": {
     "end_time": "2022-05-14T11:42:56.200404Z",
     "start_time": "2022-05-14T11:42:56.197030Z"
    }
   },
   "outputs": [],
   "source": [
    "a = (2,3,4,5,6)"
   ]
  },
  {
   "cell_type": "code",
   "execution_count": 4,
   "metadata": {
    "ExecuteTime": {
     "end_time": "2022-05-14T11:42:57.382507Z",
     "start_time": "2022-05-14T11:42:57.267365Z"
    }
   },
   "outputs": [
    {
     "ename": "ValueError",
     "evalue": "too many values to unpack (expected 4)",
     "output_type": "error",
     "traceback": [
      "\u001b[0;31m---------------------------------------------------------------------------\u001b[0m",
      "\u001b[0;31mValueError\u001b[0m                                Traceback (most recent call last)",
      "\u001b[0;32m/var/folders/38/w2xvkyxd2k37kxqm6g11c6fw0000gn/T/ipykernel_1134/3323935358.py\u001b[0m in \u001b[0;36m<module>\u001b[0;34m\u001b[0m\n\u001b[0;32m----> 1\u001b[0;31m \u001b[0mb\u001b[0m\u001b[0;34m,\u001b[0m\u001b[0mc\u001b[0m\u001b[0;34m,\u001b[0m\u001b[0md\u001b[0m\u001b[0;34m,\u001b[0m\u001b[0me\u001b[0m \u001b[0;34m=\u001b[0m \u001b[0ma\u001b[0m\u001b[0;34m[\u001b[0m\u001b[0;34m:\u001b[0m\u001b[0;34m]\u001b[0m\u001b[0;34m\u001b[0m\u001b[0;34m\u001b[0m\u001b[0m\n\u001b[0m",
      "\u001b[0;31mValueError\u001b[0m: too many values to unpack (expected 4)"
     ]
    }
   ],
   "source": [
    "b,c,d,e = a[:]"
   ]
  },
  {
   "cell_type": "code",
   "execution_count": 5,
   "metadata": {
    "ExecuteTime": {
     "end_time": "2022-05-14T11:43:00.806858Z",
     "start_time": "2022-05-14T11:43:00.791643Z"
    }
   },
   "outputs": [
    {
     "data": {
      "text/plain": [
       "(733, 1100, 3)"
      ]
     },
     "execution_count": 5,
     "metadata": {},
     "output_type": "execute_result"
    }
   ],
   "source": [
    "image.shape"
   ]
  },
  {
   "cell_type": "code",
   "execution_count": 6,
   "metadata": {
    "ExecuteTime": {
     "end_time": "2022-05-14T11:43:03.042925Z",
     "start_time": "2022-05-14T11:43:03.038862Z"
    }
   },
   "outputs": [],
   "source": [
    "# Store height and width of the image\n",
    "height, width = image.shape[:2]"
   ]
  },
  {
   "cell_type": "code",
   "execution_count": 7,
   "metadata": {
    "ExecuteTime": {
     "end_time": "2022-05-14T11:43:04.378805Z",
     "start_time": "2022-05-14T11:43:04.373097Z"
    }
   },
   "outputs": [
    {
     "data": {
      "text/plain": [
       "(733, 1100, 3)"
      ]
     },
     "execution_count": 7,
     "metadata": {},
     "output_type": "execute_result"
    }
   ],
   "source": [
    "image.shape"
   ]
  },
  {
   "cell_type": "code",
   "execution_count": 8,
   "metadata": {
    "ExecuteTime": {
     "end_time": "2022-05-14T11:43:05.145764Z",
     "start_time": "2022-05-14T11:43:05.140411Z"
    },
    "scrolled": true
   },
   "outputs": [
    {
     "data": {
      "text/plain": [
       "(733, 1100, 3)"
      ]
     },
     "execution_count": 8,
     "metadata": {},
     "output_type": "execute_result"
    }
   ],
   "source": [
    "image.shape"
   ]
  },
  {
   "cell_type": "code",
   "execution_count": 9,
   "metadata": {
    "ExecuteTime": {
     "end_time": "2022-05-14T11:43:16.053900Z",
     "start_time": "2022-05-14T11:43:16.049972Z"
    }
   },
   "outputs": [],
   "source": [
    "q_h, q_w = height/4, width/4\n",
    "\n",
    "# create a transaltion matrix \n",
    "#       | 1 0 Tx |\n",
    "#  T  = | 0 1 Ty |"
   ]
  },
  {
   "cell_type": "markdown",
   "metadata": {},
   "source": [
    "- NOTE\n",
    "    - Tx: shift image from x axis, +ve number will shift the image to right side and -ve number will shift the image to left side\n",
    "    - Ty: shift the image up and down from y axis +ve for down and -ve for up"
   ]
  },
  {
   "cell_type": "code",
   "execution_count": 10,
   "metadata": {
    "ExecuteTime": {
     "end_time": "2022-05-14T11:43:23.619409Z",
     "start_time": "2022-05-14T11:43:23.615311Z"
    }
   },
   "outputs": [],
   "source": [
    "# T is our translation matrix\n",
    "T = np.float32([[1, 0, q_h], [0, 1, q_w]])"
   ]
  },
  {
   "cell_type": "code",
   "execution_count": 11,
   "metadata": {
    "ExecuteTime": {
     "end_time": "2022-05-14T11:43:24.419412Z",
     "start_time": "2022-05-14T11:43:24.411863Z"
    }
   },
   "outputs": [
    {
     "data": {
      "text/plain": [
       "array([[  1.  ,   0.  , 183.25],\n",
       "       [  0.  ,   1.  , 275.  ]], dtype=float32)"
      ]
     },
     "execution_count": 11,
     "metadata": {},
     "output_type": "execute_result"
    }
   ],
   "source": [
    "T"
   ]
  },
  {
   "cell_type": "code",
   "execution_count": 12,
   "metadata": {
    "ExecuteTime": {
     "end_time": "2022-05-14T11:43:28.840355Z",
     "start_time": "2022-05-14T11:43:28.816871Z"
    }
   },
   "outputs": [],
   "source": [
    "# We use warpAffine to transform the image using the matrix, T\n",
    "img_translation = cv2.warpAffine(image, T, (width, height))"
   ]
  },
  {
   "cell_type": "code",
   "execution_count": 13,
   "metadata": {
    "ExecuteTime": {
     "end_time": "2022-05-14T11:43:40.831349Z",
     "start_time": "2022-05-14T11:43:32.194445Z"
    }
   },
   "outputs": [],
   "source": [
    "cv2.imshow(\"orignal\", image )\n",
    "cv2.imshow('Translation', img_translation)\n",
    "cv2.waitKey()\n",
    "cv2.destroyAllWindows()"
   ]
  },
  {
   "cell_type": "markdown",
   "metadata": {},
   "source": [
    "### Create functions"
   ]
  },
  {
   "cell_type": "code",
   "execution_count": 14,
   "metadata": {
    "ExecuteTime": {
     "end_time": "2022-05-14T11:43:48.062708Z",
     "start_time": "2022-05-14T11:43:48.058464Z"
    }
   },
   "outputs": [],
   "source": [
    "def show(img):\n",
    "    cv2.imshow('output', img)\n",
    "    cv2.waitKey()\n",
    "    cv2.destroyAllWindows()"
   ]
  },
  {
   "cell_type": "code",
   "execution_count": 15,
   "metadata": {
    "ExecuteTime": {
     "end_time": "2022-05-14T11:43:49.152178Z",
     "start_time": "2022-05-14T11:43:49.145924Z"
    }
   },
   "outputs": [],
   "source": [
    "def translate(image, x, y):\n",
    "\n",
    "    M = np.float32([[1, 0, x], [0, 1, y]])\n",
    "    shifted = cv2.warpAffine(image, M, (image.shape[1], image.shape[0]))\n",
    "    return shifted"
   ]
  },
  {
   "cell_type": "code",
   "execution_count": 16,
   "metadata": {
    "ExecuteTime": {
     "end_time": "2022-05-14T11:43:56.284956Z",
     "start_time": "2022-05-14T11:43:51.827301Z"
    }
   },
   "outputs": [],
   "source": [
    "#shift image down\n",
    "shifted = translate(image, 0, 100)\n",
    "show(shifted)\n",
    "# cv2.imshow(\"Shifted down image\", shifted)\n",
    "# cv2.waitKey(0)\n",
    "# cv2.destroyAllWindows()"
   ]
  },
  {
   "cell_type": "code",
   "execution_count": 17,
   "metadata": {
    "ExecuteTime": {
     "end_time": "2022-05-14T11:44:03.380642Z",
     "start_time": "2022-05-14T11:44:00.235215Z"
    }
   },
   "outputs": [],
   "source": [
    "#shift image up\n",
    "shifted = translate(image, 0, -100)\n",
    "cv2.imshow(\"Shifted up image\", shifted)\n",
    "cv2.waitKey(0)\n",
    "cv2.destroyAllWindows()"
   ]
  },
  {
   "cell_type": "code",
   "execution_count": null,
   "metadata": {},
   "outputs": [],
   "source": [
    "#shift image left\n",
    "shifted = translate(image, -100, 0)\n",
    "cv2.imshow(\"Shifted left image\", shifted)\n",
    "cv2.waitKey(0)\n",
    "cv2.destroyAllWindows()"
   ]
  },
  {
   "cell_type": "code",
   "execution_count": 18,
   "metadata": {
    "ExecuteTime": {
     "end_time": "2022-05-14T11:44:10.298095Z",
     "start_time": "2022-05-14T11:44:07.506226Z"
    }
   },
   "outputs": [],
   "source": [
    "#shift image right\n",
    "shifted = translate(image, -100, 0)\n",
    "cv2.imshow(\"Shifted right image\", shifted)\n",
    "cv2.waitKey(0)\n",
    "cv2.destroyAllWindows()"
   ]
  },
  {
   "cell_type": "code",
   "execution_count": 19,
   "metadata": {
    "ExecuteTime": {
     "end_time": "2022-05-14T11:44:18.490689Z",
     "start_time": "2022-05-14T11:44:15.262216Z"
    }
   },
   "outputs": [],
   "source": [
    "#shift image right and down\n",
    "shifted = translate(image, 100, 50)\n",
    "cv2.imshow(\"Shifted right down image\", shifted)\n",
    "cv2.waitKey(0)\n",
    "cv2.destroyAllWindows()"
   ]
  },
  {
   "cell_type": "code",
   "execution_count": null,
   "metadata": {},
   "outputs": [],
   "source": []
  }
 ],
 "metadata": {
  "kernelspec": {
   "display_name": "Python 3 (ipykernel)",
   "language": "python",
   "name": "python3"
  },
  "language_info": {
   "codemirror_mode": {
    "name": "ipython",
    "version": 3
   },
   "file_extension": ".py",
   "mimetype": "text/x-python",
   "name": "python",
   "nbconvert_exporter": "python",
   "pygments_lexer": "ipython3",
   "version": "3.9.7"
  },
  "toc": {
   "base_numbering": 1,
   "nav_menu": {},
   "number_sections": true,
   "sideBar": true,
   "skip_h1_title": false,
   "title_cell": "Table of Contents",
   "title_sidebar": "Contents",
   "toc_cell": false,
   "toc_position": {},
   "toc_section_display": true,
   "toc_window_display": false
  }
 },
 "nbformat": 4,
 "nbformat_minor": 1
}
