{
 "cells": [
  {
   "cell_type": "code",
   "execution_count": null,
   "metadata": {},
   "outputs": [],
   "source": []
  },
  {
   "cell_type": "code",
   "execution_count": 6,
   "metadata": {
    "ExecuteTime": {
     "end_time": "2022-05-11T13:48:05.196643Z",
     "start_time": "2022-05-11T13:48:05.193565Z"
    }
   },
   "outputs": [],
   "source": [
    "import cv2\n",
    "import numpy as np"
   ]
  },
  {
   "cell_type": "code",
   "execution_count": 9,
   "metadata": {
    "ExecuteTime": {
     "end_time": "2022-05-11T13:48:27.058158Z",
     "start_time": "2022-05-11T13:48:27.020560Z"
    }
   },
   "outputs": [],
   "source": [
    "image = cv2.imread('DATA/obama.jpg')"
   ]
  },
  {
   "cell_type": "markdown",
   "metadata": {},
   "source": [
    "### HSV Channel"
   ]
  },
  {
   "cell_type": "code",
   "execution_count": 10,
   "metadata": {
    "ExecuteTime": {
     "end_time": "2022-05-11T13:48:29.199116Z",
     "start_time": "2022-05-11T13:48:29.179656Z"
    }
   },
   "outputs": [
    {
     "data": {
      "text/plain": [
       "(1137, 910, 3)"
      ]
     },
     "execution_count": 10,
     "metadata": {},
     "output_type": "execute_result"
    }
   ],
   "source": [
    "image.shape"
   ]
  },
  {
   "cell_type": "code",
   "execution_count": 11,
   "metadata": {
    "ExecuteTime": {
     "end_time": "2022-05-11T13:56:35.178586Z",
     "start_time": "2022-05-11T13:56:35.162555Z"
    }
   },
   "outputs": [],
   "source": [
    "hsv_image = cv2.cvtColor(image, cv2.COLOR_BGR2HSV)"
   ]
  },
  {
   "cell_type": "code",
   "execution_count": 12,
   "metadata": {
    "ExecuteTime": {
     "end_time": "2022-05-11T13:56:36.218863Z",
     "start_time": "2022-05-11T13:56:36.212384Z"
    }
   },
   "outputs": [
    {
     "data": {
      "text/plain": [
       "(1137, 910, 3)"
      ]
     },
     "execution_count": 12,
     "metadata": {},
     "output_type": "execute_result"
    }
   ],
   "source": [
    "hsv_image.shape"
   ]
  },
  {
   "cell_type": "code",
   "execution_count": 13,
   "metadata": {
    "ExecuteTime": {
     "end_time": "2022-05-11T13:56:46.412556Z",
     "start_time": "2022-05-11T13:56:38.030374Z"
    }
   },
   "outputs": [],
   "source": [
    "cv2.imshow('HSV image', hsv_image)\n",
    "cv2.imshow('Hue channel', hsv_image[:, :, 0])\n",
    "cv2.imshow('Saturation channel', hsv_image[:, :, 1])\n",
    "cv2.imshow('Value channel', hsv_image[:, :, 2])\n",
    "\n",
    "cv2.waitKey()\n",
    "cv2.destroyAllWindows()"
   ]
  },
  {
   "cell_type": "code",
   "execution_count": 18,
   "metadata": {
    "ExecuteTime": {
     "end_time": "2022-05-11T13:59:06.040548Z",
     "start_time": "2022-05-11T13:59:06.037416Z"
    }
   },
   "outputs": [],
   "source": [
    "cv2.destroyAllWindows()"
   ]
  },
  {
   "cell_type": "markdown",
   "metadata": {},
   "source": [
    "### RGB Channel"
   ]
  },
  {
   "cell_type": "code",
   "execution_count": 14,
   "metadata": {
    "ExecuteTime": {
     "end_time": "2022-05-11T13:58:17.111609Z",
     "start_time": "2022-05-11T13:58:17.102318Z"
    }
   },
   "outputs": [],
   "source": [
    "image = cv2.imread('DATA/cat.jpeg')"
   ]
  },
  {
   "cell_type": "code",
   "execution_count": 15,
   "metadata": {
    "ExecuteTime": {
     "end_time": "2022-05-11T13:58:18.204963Z",
     "start_time": "2022-05-11T13:58:18.197316Z"
    }
   },
   "outputs": [
    {
     "name": "stdout",
     "output_type": "stream",
     "text": [
      "(350, 528)\n"
     ]
    }
   ],
   "source": [
    "# OpenCV's 'split' function splites the image into each color index\n",
    "B, G, R = cv2.split(image)\n",
    "\n",
    "print(B.shape)"
   ]
  },
  {
   "cell_type": "code",
   "execution_count": 16,
   "metadata": {
    "ExecuteTime": {
     "end_time": "2022-05-11T13:58:22.475553Z",
     "start_time": "2022-05-11T13:58:22.472063Z"
    }
   },
   "outputs": [
    {
     "name": "stdout",
     "output_type": "stream",
     "text": [
      "(350, 528)\n"
     ]
    }
   ],
   "source": [
    "print(G.shape)"
   ]
  },
  {
   "cell_type": "code",
   "execution_count": 17,
   "metadata": {
    "ExecuteTime": {
     "end_time": "2022-05-11T13:58:41.771307Z",
     "start_time": "2022-05-11T13:58:41.766538Z"
    }
   },
   "outputs": [
    {
     "name": "stdout",
     "output_type": "stream",
     "text": [
      "(350, 528)\n"
     ]
    }
   ],
   "source": [
    "print(R.shape)"
   ]
  },
  {
   "cell_type": "code",
   "execution_count": 19,
   "metadata": {
    "ExecuteTime": {
     "end_time": "2022-05-11T14:00:09.730495Z",
     "start_time": "2022-05-11T13:59:51.995740Z"
    }
   },
   "outputs": [],
   "source": [
    "cv2.imshow(\"org\", image)\n",
    "cv2.imshow(\"Red\", R)\n",
    "cv2.imshow(\"Green\", G)\n",
    "cv2.imshow(\"Blue\", B)\n",
    "cv2.waitKey(0)\n",
    "cv2.destroyAllWindows()"
   ]
  },
  {
   "cell_type": "code",
   "execution_count": 20,
   "metadata": {
    "ExecuteTime": {
     "end_time": "2022-05-11T14:00:09.736919Z",
     "start_time": "2022-05-11T14:00:09.733417Z"
    }
   },
   "outputs": [],
   "source": [
    "cv2.destroyAllWindows()"
   ]
  },
  {
   "cell_type": "code",
   "execution_count": 21,
   "metadata": {
    "ExecuteTime": {
     "end_time": "2022-05-11T14:00:13.426121Z",
     "start_time": "2022-05-11T14:00:13.405374Z"
    }
   },
   "outputs": [],
   "source": [
    "# Let's re-make the original image, \n",
    "merged = cv2.merge([B, G, R]) \n",
    "cv2.imshow(\"Merged\", merged) \n",
    "\n"
   ]
  },
  {
   "cell_type": "code",
   "execution_count": null,
   "metadata": {},
   "outputs": [],
   "source": []
  },
  {
   "cell_type": "code",
   "execution_count": 22,
   "metadata": {
    "ExecuteTime": {
     "end_time": "2022-05-11T14:00:26.552605Z",
     "start_time": "2022-05-11T14:00:17.227576Z"
    }
   },
   "outputs": [],
   "source": [
    "# Let's re-make the original image, \n",
    "merged = cv2.merge([R, G, B]) \n",
    "cv2.imshow(\"Merged\", merged) \n",
    "\n",
    "\n",
    "# Let's amplify the blue color\n",
    "merged = cv2.merge([B+10, G+100, R+100])\n",
    "cv2.imshow(\"Merged with Blue Amplified\", merged) \n",
    "\n",
    "cv2.waitKey(0)\n",
    "cv2.destroyAllWindows()"
   ]
  },
  {
   "cell_type": "code",
   "execution_count": 23,
   "metadata": {
    "ExecuteTime": {
     "end_time": "2022-05-11T14:00:32.407197Z",
     "start_time": "2022-05-11T14:00:32.402698Z"
    }
   },
   "outputs": [],
   "source": [
    "cv2.destroyAllWindows()"
   ]
  },
  {
   "cell_type": "code",
   "execution_count": 24,
   "metadata": {
    "ExecuteTime": {
     "end_time": "2022-05-11T14:00:36.315634Z",
     "start_time": "2022-05-11T14:00:36.311999Z"
    }
   },
   "outputs": [],
   "source": [
    "z = np.zeros(shape=(image.shape[:2]),dtype=\"uint8\")"
   ]
  },
  {
   "cell_type": "code",
   "execution_count": 25,
   "metadata": {
    "ExecuteTime": {
     "end_time": "2022-05-11T14:00:37.132287Z",
     "start_time": "2022-05-11T14:00:37.126628Z"
    }
   },
   "outputs": [
    {
     "data": {
      "text/plain": [
       "(350, 528)"
      ]
     },
     "execution_count": 25,
     "metadata": {},
     "output_type": "execute_result"
    }
   ],
   "source": [
    "z.shape"
   ]
  },
  {
   "cell_type": "code",
   "execution_count": 26,
   "metadata": {
    "ExecuteTime": {
     "end_time": "2022-05-11T14:00:38.376246Z",
     "start_time": "2022-05-11T14:00:38.370773Z"
    }
   },
   "outputs": [
    {
     "data": {
      "text/plain": [
       "(350, 528, 3)"
      ]
     },
     "execution_count": 26,
     "metadata": {},
     "output_type": "execute_result"
    }
   ],
   "source": [
    "image.shape"
   ]
  },
  {
   "cell_type": "code",
   "execution_count": 27,
   "metadata": {
    "ExecuteTime": {
     "end_time": "2022-05-11T14:00:39.419839Z",
     "start_time": "2022-05-11T14:00:39.415852Z"
    }
   },
   "outputs": [],
   "source": [
    "b, g, r = cv2.split(image)"
   ]
  },
  {
   "cell_type": "code",
   "execution_count": 28,
   "metadata": {
    "ExecuteTime": {
     "end_time": "2022-05-11T14:00:41.219181Z",
     "start_time": "2022-05-11T14:00:41.214158Z"
    }
   },
   "outputs": [
    {
     "data": {
      "text/plain": [
       "(350, 528)"
      ]
     },
     "execution_count": 28,
     "metadata": {},
     "output_type": "execute_result"
    }
   ],
   "source": [
    "r.shape"
   ]
  },
  {
   "cell_type": "code",
   "execution_count": 29,
   "metadata": {
    "ExecuteTime": {
     "end_time": "2022-05-11T14:00:42.111483Z",
     "start_time": "2022-05-11T14:00:42.107606Z"
    }
   },
   "outputs": [],
   "source": [
    "a = cv2.merge([r, z, z])"
   ]
  },
  {
   "cell_type": "code",
   "execution_count": 30,
   "metadata": {
    "ExecuteTime": {
     "end_time": "2022-05-11T14:00:57.788429Z",
     "start_time": "2022-05-11T14:00:43.047917Z"
    }
   },
   "outputs": [],
   "source": [
    "\n",
    "cv2.imshow(\"Red\", cv2.merge([r, z, z]))\n",
    "cv2.imshow(\"Green\", cv2.merge([z,g, z]))\n",
    "cv2.imshow(\"Blue\",cv2.merge([z, z, b]) )\n",
    "cv2.waitKey(0)\n",
    "cv2.destroyAllWindows()"
   ]
  },
  {
   "cell_type": "code",
   "execution_count": 31,
   "metadata": {
    "ExecuteTime": {
     "end_time": "2022-05-11T14:01:00.033267Z",
     "start_time": "2022-05-11T14:01:00.030159Z"
    }
   },
   "outputs": [],
   "source": [
    "cv2.destroyAllWindows()"
   ]
  },
  {
   "cell_type": "code",
   "execution_count": null,
   "metadata": {},
   "outputs": [],
   "source": []
  }
 ],
 "metadata": {
  "kernelspec": {
   "display_name": "Python 3 (ipykernel)",
   "language": "python",
   "name": "python3"
  },
  "language_info": {
   "codemirror_mode": {
    "name": "ipython",
    "version": 3
   },
   "file_extension": ".py",
   "mimetype": "text/x-python",
   "name": "python",
   "nbconvert_exporter": "python",
   "pygments_lexer": "ipython3",
   "version": "3.9.7"
  },
  "toc": {
   "base_numbering": 1,
   "nav_menu": {},
   "number_sections": true,
   "sideBar": true,
   "skip_h1_title": false,
   "title_cell": "Table of Contents",
   "title_sidebar": "Contents",
   "toc_cell": false,
   "toc_position": {},
   "toc_section_display": true,
   "toc_window_display": false
  }
 },
 "nbformat": 4,
 "nbformat_minor": 4
}
